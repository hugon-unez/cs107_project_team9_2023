{
  "cells": [
    {
      "cell_type": "markdown",
      "metadata": {},
      "source": [
        "Our package has dependencies not available on the pypi index. So, a user should run the following command before installing/using our package:\n",
        "\n",
        "in a venv, first pip install jupyter notebook\n",
        "\n",
        "then:\n",
        "\n",
        "pip install astropy astroquery matplotlib requests pandas scipy numpy scikit-learn pytest differint\n",
        "\n",
        "Then, our package can be installed using:\n",
        "\n",
        "pip install -i https://test.pypi.org/simple/ team09CS107Harvard2023==1.0.0"
      ]
    },
    {
      "cell_type": "markdown",
      "metadata": {
        "id": "lODYhRctRhUJ"
      },
      "source": [
        "# Package Usage\n",
        "## Core Functionality: Initialize"
      ]
    },
    {
      "cell_type": "markdown",
      "metadata": {
        "id": "0LkNzYwzS6vm"
      },
      "source": [
        "First, we will demonstrate usage of our base query class."
      ]
    },
    {
      "cell_type": "code",
      "execution_count": 1,
      "metadata": {
        "colab": {
          "base_uri": "https://localhost:8080/"
        },
        "id": "sFDLmZfaUHFi",
        "outputId": "c5a8ae27-4b36-4da9-cbc9-c5a88e343b0c"
      },
      "outputs": [
        {
          "name": "stdout",
          "output_type": "stream",
          "text": [
            "Query executed successfully and result stored in data attribute.\n",
            "    ra       dec          bestObjID     \n",
            "--------- ---------- -------------------\n",
            "184.86409  52.571314 1237657629529211079\n",
            "222.98982  42.629408 1237658203986460871\n",
            "146.39863  5.8334459 1237658423547920434\n",
            "49.459411   0.847754 1237660241924063461\n",
            "172.28104  10.234226 1237658493349789816\n",
            "156.25024  7.6586271 1237658425162858683\n",
            "231.07321  32.718373 1237662341082382595\n",
            "197.37712  10.524518 1237662238545478566\n",
            "184.90501 -3.3095095 1237650760782053596\n",
            "242.52563  6.0693494 1237662198290186255\n"
          ]
        }
      ],
      "source": [
        "from group9_package.subpkg_1.core_functions_module_extract import SpectralAnalysisBase\n",
        "\n",
        "\n",
        "query = \"select top 10 ra, dec, bestObjID from specObj where class = 'galaxy'  and z > 0.3 and zWarning = 0\"\n",
        "astro = SpectralAnalysisBase(query)\n",
        "astro.execute_query()\n",
        "print(astro.data)\n"
      ]
    },
    {
      "cell_type": "markdown",
      "metadata": {
        "id": "xI90R37oBcr-"
      },
      "source": [
        "Our base query class takes in any user query but any faulty queries are clearly recognizable through the raise of a value error. This cell should be an error."
      ]
    },
    {
      "cell_type": "code",
      "execution_count": 2,
      "metadata": {
        "colab": {
          "base_uri": "https://localhost:8080/",
          "height": 399
        },
        "id": "-SqT76C_B3aW",
        "outputId": "2600f23f-2db4-441a-e664-50cec8df4114"
      },
      "outputs": [
        {
          "name": "stdout",
          "output_type": "stream",
          "text": [
            "Query Error: Query is invalid.\n"
          ]
        },
        {
          "ename": "ValueError",
          "evalue": "Query is invalid.",
          "output_type": "error",
          "traceback": [
            "\u001b[0;31m---------------------------------------------------------------------------\u001b[0m",
            "\u001b[0;31mValueError\u001b[0m                                Traceback (most recent call last)",
            "Cell \u001b[0;32mIn[2], line 5\u001b[0m\n\u001b[1;32m      3\u001b[0m query \u001b[39m=\u001b[39m \u001b[39m'\u001b[39m\u001b[39minvalid query test\u001b[39m\u001b[39m'\u001b[39m\n\u001b[1;32m      4\u001b[0m astro1 \u001b[39m=\u001b[39m SpectralAnalysisBase(query)\n\u001b[0;32m----> 5\u001b[0m astro1\u001b[39m.\u001b[39;49mexecute_query()\n",
            "File \u001b[0;32m~/Desktop/example_notebook/venv5/lib/python3.11/site-packages/group9_package/subpkg_1/core_functions_module_extract.py:60\u001b[0m, in \u001b[0;36mSpectralAnalysisBase.execute_query\u001b[0;34m(self)\u001b[0m\n\u001b[1;32m     58\u001b[0m \u001b[39m# use try except block in order to catch issues with query\u001b[39;00m\n\u001b[1;32m     59\u001b[0m \u001b[39mtry\u001b[39;00m:\n\u001b[0;32m---> 60\u001b[0m     \u001b[39mself\u001b[39;49m\u001b[39m.\u001b[39;49mquery_validation(\u001b[39mself\u001b[39;49m\u001b[39m.\u001b[39;49mquery)  \u001b[39m# Validate the query before executing\u001b[39;00m\n\u001b[1;32m     61\u001b[0m     result \u001b[39m=\u001b[39m SDSS\u001b[39m.\u001b[39mquery_sql(\u001b[39mself\u001b[39m\u001b[39m.\u001b[39mquery)\n\u001b[1;32m     62\u001b[0m     \u001b[39mself\u001b[39m\u001b[39m.\u001b[39mdata \u001b[39m=\u001b[39m Table(result)\n",
            "File \u001b[0;32m~/Desktop/example_notebook/venv5/lib/python3.11/site-packages/group9_package/subpkg_1/core_functions_module_extract.py:50\u001b[0m, in \u001b[0;36mSpectralAnalysisBase.query_validation\u001b[0;34m(query)\u001b[0m\n\u001b[1;32m     41\u001b[0m \u001b[39m\u001b[39m\u001b[39m\"\"\"Validates the given query string to ensure it contains basic elements of a SQL query.\u001b[39;00m\n\u001b[1;32m     42\u001b[0m \n\u001b[1;32m     43\u001b[0m \u001b[39mArgs:\u001b[39;00m\n\u001b[0;32m   (...)\u001b[0m\n\u001b[1;32m     47\u001b[0m \u001b[39m    ValueError: If the query string does not contain necessary SQL elements.\u001b[39;00m\n\u001b[1;32m     48\u001b[0m \u001b[39m\"\"\"\u001b[39;00m\n\u001b[1;32m     49\u001b[0m \u001b[39mif\u001b[39;00m \u001b[39m'\u001b[39m\u001b[39mselect\u001b[39m\u001b[39m'\u001b[39m \u001b[39mnot\u001b[39;00m \u001b[39min\u001b[39;00m query\u001b[39m.\u001b[39mlower() \u001b[39mor\u001b[39;00m \u001b[39m'\u001b[39m\u001b[39mfrom\u001b[39m\u001b[39m'\u001b[39m \u001b[39mnot\u001b[39;00m \u001b[39min\u001b[39;00m query\u001b[39m.\u001b[39mlower():\n\u001b[0;32m---> 50\u001b[0m     \u001b[39mraise\u001b[39;00m \u001b[39mValueError\u001b[39;00m(\u001b[39m\"\u001b[39m\u001b[39mQuery is invalid.\u001b[39m\u001b[39m\"\u001b[39m)\n",
            "\u001b[0;31mValueError\u001b[0m: Query is invalid."
          ]
        }
      ],
      "source": [
        "from group9_package.subpkg_1.core_functions_module_extract import SpectralAnalysisBase\n",
        "\n",
        "query = 'invalid query test'\n",
        "astro1 = SpectralAnalysisBase(query)\n",
        "astro1.execute_query()"
      ]
    },
    {
      "cell_type": "markdown",
      "metadata": {
        "id": "VYU7N0ztO_2A"
      },
      "source": [
        "## Core Functionality: Data Preprocessing\n",
        "\n",
        "After obtaining our query, we move to **processing** it. We do this given how variable the flux of each spectrum may be. We expect to be able to handle the following transformations: (normalization, outlier removal, interpolation, redshift correction). Below demonstrates the usage of our DataPreprocessor module with its integration of our base class. We expect that the user provides a Z Score threshold to identify outliers. It defaults to 2.5 as we believed this to be standard value to do so. For the interpolate function, we expect the wavelengths the user wants to estimate to be provided. Lastly, our redshift correction expects to correct Ultraviolet (u), Green (g), Near Infrared (i), Infrared (z).\n",
        "\n",
        "Pandas must be imported to convert our Table returned by initial query to a df. This is because we want to avoid mutating the queried object directly.\n",
        "### Investigate changing this pre prod push^\n",
        "\n",
        "Numpy is imported and used by the user to create a wavelength range to interpolate.\n"
      ]
    },
    {
      "cell_type": "code",
      "execution_count": 3,
      "metadata": {
        "colab": {
          "base_uri": "https://localhost:8080/",
          "height": 393
        },
        "id": "VDGP2M92RGvQ",
        "outputId": "8765a63c-5606-4985-9473-c3c2f6749d29"
      },
      "outputs": [
        {
          "name": "stdout",
          "output_type": "stream",
          "text": [
            "Query executed successfully and result stored in data attribute.\n"
          ]
        },
        {
          "data": {
            "text/html": [
              "<div>\n",
              "<style scoped>\n",
              "    .dataframe tbody tr th:only-of-type {\n",
              "        vertical-align: middle;\n",
              "    }\n",
              "\n",
              "    .dataframe tbody tr th {\n",
              "        vertical-align: top;\n",
              "    }\n",
              "\n",
              "    .dataframe thead th {\n",
              "        text-align: right;\n",
              "    }\n",
              "</style>\n",
              "<table border=\"1\" class=\"dataframe\">\n",
              "  <thead>\n",
              "    <tr style=\"text-align: right;\">\n",
              "      <th></th>\n",
              "      <th>ra</th>\n",
              "      <th>dec</th>\n",
              "    </tr>\n",
              "  </thead>\n",
              "  <tbody>\n",
              "    <tr>\n",
              "      <th>0</th>\n",
              "      <td>0.115411</td>\n",
              "      <td>1.290704</td>\n",
              "    </tr>\n",
              "    <tr>\n",
              "      <th>1</th>\n",
              "      <td>0.842504</td>\n",
              "      <td>-73.129708</td>\n",
              "    </tr>\n",
              "    <tr>\n",
              "      <th>2</th>\n",
              "      <td>-0.618161</td>\n",
              "      <td>-917.390533</td>\n",
              "    </tr>\n",
              "    <tr>\n",
              "      <th>3</th>\n",
              "      <td>-2.466882</td>\n",
              "      <td>-3343.463413</td>\n",
              "    </tr>\n",
              "    <tr>\n",
              "      <th>4</th>\n",
              "      <td>-0.124559</td>\n",
              "      <td>-8163.319988</td>\n",
              "    </tr>\n",
              "    <tr>\n",
              "      <th>5</th>\n",
              "      <td>-0.430282</td>\n",
              "      <td>-16188.931899</td>\n",
              "    </tr>\n",
              "    <tr>\n",
              "      <th>6</th>\n",
              "      <td>0.996662</td>\n",
              "      <td>-28232.270787</td>\n",
              "    </tr>\n",
              "    <tr>\n",
              "      <th>7</th>\n",
              "      <td>0.354046</td>\n",
              "      <td>-45105.308293</td>\n",
              "    </tr>\n",
              "    <tr>\n",
              "      <th>8</th>\n",
              "      <td>0.116191</td>\n",
              "      <td>-67620.016056</td>\n",
              "    </tr>\n",
              "    <tr>\n",
              "      <th>9</th>\n",
              "      <td>1.215070</td>\n",
              "      <td>-96588.365719</td>\n",
              "    </tr>\n",
              "  </tbody>\n",
              "</table>\n",
              "</div>"
            ],
            "text/plain": [
              "         ra           dec\n",
              "0  0.115411      1.290704\n",
              "1  0.842504    -73.129708\n",
              "2 -0.618161   -917.390533\n",
              "3 -2.466882  -3343.463413\n",
              "4 -0.124559  -8163.319988\n",
              "5 -0.430282 -16188.931899\n",
              "6  0.996662 -28232.270787\n",
              "7  0.354046 -45105.308293\n",
              "8  0.116191 -67620.016056\n",
              "9  1.215070 -96588.365719"
            ]
          },
          "metadata": {},
          "output_type": "display_data"
        }
      ],
      "source": [
        "from group9_package.subpkg_1.core_functions_module_modify import DataPreprocessor\n",
        "import pandas as pd\n",
        "import numpy as np\n",
        "\n",
        "query = \"select top 10 ra, dec from specObj where class = 'galaxy'  and z > 0.3 and zWarning = 0\"\n",
        "astro = SpectralAnalysisBase(query)\n",
        "astro.execute_query()\n",
        "\n",
        "astro_df = astro.data.to_pandas()\n",
        "\n",
        "\n",
        "data_preprocessor = DataPreprocessor(query=query,data=astro_df)\n",
        "new_wavelengths = np.linspace(1, 4, len(astro_df))\n",
        "\n",
        "data_preprocessor.normalize_data()\n",
        "data_preprocessor.remove_outliers(2.5)\n",
        "data_preprocessor.interpolate_data(new_wavelengths)\n",
        "data_preprocessor.correct_redshift()\n",
        "\n",
        "# display our processed data\n",
        "display(data_preprocessor.data)"
      ]
    },
    {
      "cell_type": "markdown",
      "metadata": {
        "id": "kOkbxRd6Fc76"
      },
      "source": [
        "## Core Functionality: Metadata Extraction\n",
        "\n",
        "Next we move to our core functionalities. We begin with **metadata extraction**. For this functionality, we extract the (identifiers, coordinates, chemical abundances, redshifts, or other fields requested by end-user).\n"
      ]
    },
    {
      "cell_type": "code",
      "execution_count": 4,
      "metadata": {
        "colab": {
          "base_uri": "https://localhost:8080/"
        },
        "id": "iH9xhqOXGgud",
        "outputId": "8ceba254-6105-496e-9bd8-1cb8a110fc7c"
      },
      "outputs": [
        {
          "name": "stdout",
          "output_type": "stream",
          "text": [
            "Query executed successfully and result stored in data attribute.\n"
          ]
        }
      ],
      "source": [
        "from group9_package.subpkg_1.core_functions_module_extract import SpectralAnalysisBase, MetaDataExtractor, SpectraExtract\n",
        "\n",
        "query = \"select top 10 ra, dec, elodieZ, bestObjID, elodieFeH from specObj where class = 'galaxy'  and z > 0.3 and zWarning = 0\"\n",
        "astro = MetaDataExtractor(query)\n",
        "astro.execute_query()"
      ]
    },
    {
      "cell_type": "markdown",
      "metadata": {
        "id": "KHhzB8ZoHkSN"
      },
      "source": [
        " We save the instances of the different extract requests in the respective variables. We expect that if the user wants to extract any attribute, they do so in the following manner. This enforces better modularity as as to not modify the original data."
      ]
    },
    {
      "cell_type": "code",
      "execution_count": 5,
      "metadata": {
        "id": "BEu51yqHIKev"
      },
      "outputs": [
        {
          "name": "stdout",
          "output_type": "stream",
          "text": [
            "     bestObjID     \n",
            "-------------------\n",
            "1237650795146510903\n",
            "1237648720142401774\n",
            "1237648721216274720\n",
            "1237650795683512955\n",
            "                  0\n",
            "1237650795683447026\n",
            "1237648721216209489\n",
            "1237651799621763660\n",
            "1237648720142139722\n",
            "1237650795146314138\n",
            "     bestObjID          ra        dec    \n",
            "------------------- --------- -----------\n",
            "1237650795146510903 146.76339 -0.81043316\n",
            "1237648720142401774 146.62282 -0.95138526\n",
            "1237648721216274720 146.92403 -0.10514302\n",
            "1237650795683512955 147.08969 -0.26650926\n",
            "                  0 146.27838  -0.6115498\n",
            "1237650795683447026 146.84292 -0.39093546\n",
            "1237648721216209489 146.89733 -0.18636779\n",
            "1237651799621763660 146.07916  -1.1580268\n",
            "1237648720142139722 146.01189 -0.97522919\n",
            "1237650795146314138 146.24259 -0.76261796\n",
            "     bestObjID      elodieFeH\n",
            "------------------- ---------\n",
            "1237650795146510903         0\n",
            "1237648720142401774         0\n",
            "1237648721216274720         0\n",
            "1237650795683512955         0\n",
            "                  0         0\n",
            "1237650795683447026         0\n",
            "1237648721216209489         0\n",
            "1237651799621763660         0\n",
            "1237648720142139722         0\n",
            "1237650795146314138         0\n",
            "     bestObjID      elodieZ\n",
            "------------------- -------\n",
            "1237650795146510903       0\n",
            "1237648720142401774       0\n",
            "1237648721216274720       0\n",
            "1237650795683512955       0\n",
            "                  0       0\n",
            "1237650795683447026       0\n",
            "1237648721216209489       0\n",
            "1237651799621763660       0\n",
            "1237648720142139722       0\n",
            "1237650795146314138       0\n"
          ]
        }
      ],
      "source": [
        "from group9_package.subpkg_1.core_functions_module_extract import SpectralAnalysisBase, MetaDataExtractor, SpectraExtract\n",
        "identifiers = astro.extract_identifiers()\n",
        "coordinates = astro.extract_coordinates()\n",
        "chemicalAbundances = astro.extract_chemical_abundances()\n",
        "redshifts = astro.extract_redshifts()\n",
        "print(identifiers)\n",
        "print(coordinates)\n",
        "print(chemicalAbundances)\n",
        "print(redshifts)"
      ]
    },
    {
      "cell_type": "markdown",
      "metadata": {
        "id": "2ngVMxHtJwBw"
      },
      "source": [
        "We've also included an additional class for extracting spectra data. The below fetches spectrum from SDSS specifically using the plate, MJD, and fiber numbers. This means we'd expect the user to query for these specific attributes of spectroscopic data. These identifiers can be found with our query.\n",
        "\n",
        " First we create a SpectralAnalysisBase Class instance to execute the query. We expect a row of data to be queried for as an argument within SpectraExtract call. This same behavior can be used to get a full spectra data.\n"
      ]
    },
    {
      "cell_type": "code",
      "execution_count": 6,
      "metadata": {
        "colab": {
          "base_uri": "https://localhost:8080/"
        },
        "id": "XJvUbP6oLJlB",
        "outputId": "c4da730f-1fbd-4732-b839-71226b0c298f"
      },
      "outputs": [
        {
          "name": "stdout",
          "output_type": "stream",
          "text": [
            "Query executed successfully and result stored in data attribute.\n"
          ]
        },
        {
          "name": "stderr",
          "output_type": "stream",
          "text": [
            "/Users/hnunez/Desktop/example_notebook/venv5/lib/python3.11/site-packages/astroquery/sdss/core.py:874: VisibleDeprecationWarning: Reading unicode strings without specifying the encoding argument is deprecated. Set the encoding, use None for the system default.\n",
            "  arr = np.atleast_1d(np.genfromtxt(io.BytesIO(response.content),\n"
          ]
        },
        {
          "name": "stdout",
          "output_type": "stream",
          "text": [
            "Successful Query!\n",
            "      Wavelength   Flux  BestFit  SkyFlux\n",
            "0       3605.786 -1.937   -0.015    3.395\n",
            "1       3606.617 -3.299   -0.017    3.393\n",
            "2       3607.447 -0.107   -0.019    3.440\n",
            "3       3608.279  0.570   -0.022    3.407\n",
            "4       3609.109 -2.820   -0.023    3.370\n",
            "...          ...    ...      ...      ...\n",
            "4580   10351.418  1.731    1.372   39.532\n",
            "4581   10353.805  2.527    1.370   14.752\n",
            "4582   10356.193  0.568    1.370   14.072\n",
            "4583   10358.570  2.200    1.371   12.751\n",
            "4584   10360.958  3.832    1.373    4.538\n",
            "\n",
            "[4585 rows x 4 columns]\n",
            "Request failed with status code: 500. Retrying...\n",
            "Request failed with status code: 500. Retrying...\n",
            "Successful Query!\n",
            "          flux  loglam      ivar  and_mask    or_mask     wdisp        sky  \\\n",
            "0    -1.937115  3.5570  0.082223         0          0  1.142011   3.395389   \n",
            "1    -3.299369  3.5571  0.079175         0          0  1.141888   3.393457   \n",
            "2    -0.106838  3.5572  0.074978         0          0  1.141764   3.439501   \n",
            "3     0.569755  3.5573  0.080653         0          0  1.141640   3.407291   \n",
            "4    -2.820402  3.5574  0.082536         0          0  1.141517   3.370394   \n",
            "...        ...     ...       ...       ...        ...       ...        ...   \n",
            "4580  1.731266  4.0150  0.077008         0    8388608  0.837787  39.532246   \n",
            "4581  2.527200  4.0151  0.115658         0          0  0.838547  14.752366   \n",
            "4582  0.568423  4.0152  0.152431         0          0  0.839308  14.071901   \n",
            "4583  2.200193  4.0153  0.000000         0          0  0.840037  12.751198   \n",
            "4584  3.831949  4.0154  0.143868         0  134217728  0.840804   4.538127   \n",
            "\n",
            "         model  \n",
            "0    -0.014616  \n",
            "1    -0.016814  \n",
            "2    -0.019323  \n",
            "3    -0.021644  \n",
            "4    -0.023318  \n",
            "...        ...  \n",
            "4580  1.371676  \n",
            "4581  1.370484  \n",
            "4582  1.370290  \n",
            "4583  1.371306  \n",
            "4584  1.372789  \n",
            "\n",
            "[4585 rows x 8 columns]\n"
          ]
        }
      ],
      "source": [
        "from group9_package.subpkg_1.core_functions_module_extract import SpectralAnalysisBase, MetaDataExtractor, SpectraExtract\n",
        "\n",
        "query_galaxies = \"select top 1 class, plate, mjd, fiberid, bestObjID from specObj where class = 'galaxy'\"\n",
        "galaxies = SpectralAnalysisBase(query_galaxies)\n",
        "galaxies.execute_query()\n",
        "\n",
        "spectra_extractor = SpectraExtract(galaxies.data[0])\n",
        "\n",
        "# get spectra\n",
        "spectra = spectra_extractor.extract_spectra()\n",
        "print(spectra)\n",
        "\n",
        "# Get full spectra\n",
        "spectra_full = spectra_extractor.extract_spectra_full()\n",
        "print(spectra_full)"
      ]
    },
    {
      "cell_type": "markdown",
      "metadata": {
        "id": "jK-HPjdpemqW"
      },
      "source": [
        "## Core Functionality: Wavelength Alignment\n",
        "\n",
        "Next, we've included our module for alignment in wavelength for all the spectra across a predefined range as mentioned in the contract.\n",
        "\n",
        "The interpolation function similar to our preprocessing module takes in pre-defined wavelength range and interpolates across these.\n",
        "\n",
        "The alignment function creates an instance of the Wavelength Alignment class and performs the alignment"
      ]
    },
    {
      "cell_type": "code",
      "execution_count": 7,
      "metadata": {
        "id": "917TNFazhruC"
      },
      "outputs": [
        {
          "data": {
            "text/html": [
              "<div>\n",
              "<style scoped>\n",
              "    .dataframe tbody tr th:only-of-type {\n",
              "        vertical-align: middle;\n",
              "    }\n",
              "\n",
              "    .dataframe tbody tr th {\n",
              "        vertical-align: top;\n",
              "    }\n",
              "\n",
              "    .dataframe thead th {\n",
              "        text-align: right;\n",
              "    }\n",
              "</style>\n",
              "<table border=\"1\" class=\"dataframe\">\n",
              "  <thead>\n",
              "    <tr style=\"text-align: right;\">\n",
              "      <th></th>\n",
              "      <th>flux</th>\n",
              "      <th>loglam</th>\n",
              "      <th>ivar</th>\n",
              "      <th>and_mask</th>\n",
              "      <th>or_mask</th>\n",
              "      <th>wdisp</th>\n",
              "      <th>sky</th>\n",
              "      <th>model</th>\n",
              "    </tr>\n",
              "  </thead>\n",
              "  <tbody>\n",
              "    <tr>\n",
              "      <th>0</th>\n",
              "      <td>-1.937115</td>\n",
              "      <td>3.5570</td>\n",
              "      <td>0.082223</td>\n",
              "      <td>0</td>\n",
              "      <td>0</td>\n",
              "      <td>1.142011</td>\n",
              "      <td>3.395389</td>\n",
              "      <td>-0.014616</td>\n",
              "    </tr>\n",
              "    <tr>\n",
              "      <th>1</th>\n",
              "      <td>-3.299369</td>\n",
              "      <td>3.5571</td>\n",
              "      <td>0.079175</td>\n",
              "      <td>0</td>\n",
              "      <td>0</td>\n",
              "      <td>1.141888</td>\n",
              "      <td>3.393457</td>\n",
              "      <td>-0.016814</td>\n",
              "    </tr>\n",
              "    <tr>\n",
              "      <th>2</th>\n",
              "      <td>-0.106838</td>\n",
              "      <td>3.5572</td>\n",
              "      <td>0.074978</td>\n",
              "      <td>0</td>\n",
              "      <td>0</td>\n",
              "      <td>1.141764</td>\n",
              "      <td>3.439501</td>\n",
              "      <td>-0.019323</td>\n",
              "    </tr>\n",
              "    <tr>\n",
              "      <th>3</th>\n",
              "      <td>0.569755</td>\n",
              "      <td>3.5573</td>\n",
              "      <td>0.080653</td>\n",
              "      <td>0</td>\n",
              "      <td>0</td>\n",
              "      <td>1.141640</td>\n",
              "      <td>3.407291</td>\n",
              "      <td>-0.021644</td>\n",
              "    </tr>\n",
              "    <tr>\n",
              "      <th>4</th>\n",
              "      <td>-2.820402</td>\n",
              "      <td>3.5574</td>\n",
              "      <td>0.082536</td>\n",
              "      <td>0</td>\n",
              "      <td>0</td>\n",
              "      <td>1.141517</td>\n",
              "      <td>3.370394</td>\n",
              "      <td>-0.023318</td>\n",
              "    </tr>\n",
              "    <tr>\n",
              "      <th>...</th>\n",
              "      <td>...</td>\n",
              "      <td>...</td>\n",
              "      <td>...</td>\n",
              "      <td>...</td>\n",
              "      <td>...</td>\n",
              "      <td>...</td>\n",
              "      <td>...</td>\n",
              "      <td>...</td>\n",
              "    </tr>\n",
              "    <tr>\n",
              "      <th>4580</th>\n",
              "      <td>1.731266</td>\n",
              "      <td>4.0150</td>\n",
              "      <td>0.077008</td>\n",
              "      <td>0</td>\n",
              "      <td>8388608</td>\n",
              "      <td>0.837787</td>\n",
              "      <td>39.532246</td>\n",
              "      <td>1.371676</td>\n",
              "    </tr>\n",
              "    <tr>\n",
              "      <th>4581</th>\n",
              "      <td>2.527200</td>\n",
              "      <td>4.0151</td>\n",
              "      <td>0.115658</td>\n",
              "      <td>0</td>\n",
              "      <td>0</td>\n",
              "      <td>0.838547</td>\n",
              "      <td>14.752366</td>\n",
              "      <td>1.370484</td>\n",
              "    </tr>\n",
              "    <tr>\n",
              "      <th>4582</th>\n",
              "      <td>0.568423</td>\n",
              "      <td>4.0152</td>\n",
              "      <td>0.152431</td>\n",
              "      <td>0</td>\n",
              "      <td>0</td>\n",
              "      <td>0.839308</td>\n",
              "      <td>14.071901</td>\n",
              "      <td>1.370290</td>\n",
              "    </tr>\n",
              "    <tr>\n",
              "      <th>4583</th>\n",
              "      <td>2.200193</td>\n",
              "      <td>4.0153</td>\n",
              "      <td>0.000000</td>\n",
              "      <td>0</td>\n",
              "      <td>0</td>\n",
              "      <td>0.840037</td>\n",
              "      <td>12.751198</td>\n",
              "      <td>1.371306</td>\n",
              "    </tr>\n",
              "    <tr>\n",
              "      <th>4584</th>\n",
              "      <td>3.831949</td>\n",
              "      <td>4.0154</td>\n",
              "      <td>0.143868</td>\n",
              "      <td>0</td>\n",
              "      <td>134217728</td>\n",
              "      <td>0.840804</td>\n",
              "      <td>4.538127</td>\n",
              "      <td>1.372789</td>\n",
              "    </tr>\n",
              "  </tbody>\n",
              "</table>\n",
              "<p>4585 rows × 8 columns</p>\n",
              "</div>"
            ],
            "text/plain": [
              "          flux  loglam      ivar  and_mask    or_mask     wdisp        sky  \\\n",
              "0    -1.937115  3.5570  0.082223         0          0  1.142011   3.395389   \n",
              "1    -3.299369  3.5571  0.079175         0          0  1.141888   3.393457   \n",
              "2    -0.106838  3.5572  0.074978         0          0  1.141764   3.439501   \n",
              "3     0.569755  3.5573  0.080653         0          0  1.141640   3.407291   \n",
              "4    -2.820402  3.5574  0.082536         0          0  1.141517   3.370394   \n",
              "...        ...     ...       ...       ...        ...       ...        ...   \n",
              "4580  1.731266  4.0150  0.077008         0    8388608  0.837787  39.532246   \n",
              "4581  2.527200  4.0151  0.115658         0          0  0.838547  14.752366   \n",
              "4582  0.568423  4.0152  0.152431         0          0  0.839308  14.071901   \n",
              "4583  2.200193  4.0153  0.000000         0          0  0.840037  12.751198   \n",
              "4584  3.831949  4.0154  0.143868         0  134217728  0.840804   4.538127   \n",
              "\n",
              "         model  \n",
              "0    -0.014616  \n",
              "1    -0.016814  \n",
              "2    -0.019323  \n",
              "3    -0.021644  \n",
              "4    -0.023318  \n",
              "...        ...  \n",
              "4580  1.371676  \n",
              "4581  1.370484  \n",
              "4582  1.370290  \n",
              "4583  1.371306  \n",
              "4584  1.372789  \n",
              "\n",
              "[4585 rows x 8 columns]"
            ]
          },
          "metadata": {},
          "output_type": "display_data"
        },
        {
          "data": {
            "text/html": [
              "<div>\n",
              "<style scoped>\n",
              "    .dataframe tbody tr th:only-of-type {\n",
              "        vertical-align: middle;\n",
              "    }\n",
              "\n",
              "    .dataframe tbody tr th {\n",
              "        vertical-align: top;\n",
              "    }\n",
              "\n",
              "    .dataframe thead th {\n",
              "        text-align: right;\n",
              "    }\n",
              "</style>\n",
              "<table border=\"1\" class=\"dataframe\">\n",
              "  <thead>\n",
              "    <tr style=\"text-align: right;\">\n",
              "      <th></th>\n",
              "      <th>loglam</th>\n",
              "      <th>flux</th>\n",
              "      <th>ivar</th>\n",
              "      <th>and_mask</th>\n",
              "      <th>or_mask</th>\n",
              "      <th>wdisp</th>\n",
              "      <th>sky</th>\n",
              "      <th>model</th>\n",
              "    </tr>\n",
              "  </thead>\n",
              "  <tbody>\n",
              "    <tr>\n",
              "      <th>0</th>\n",
              "      <td>3.5570</td>\n",
              "      <td>-1.937115</td>\n",
              "      <td>0.082223</td>\n",
              "      <td>0</td>\n",
              "      <td>0</td>\n",
              "      <td>1.142011</td>\n",
              "      <td>3.395389</td>\n",
              "      <td>-0.014616</td>\n",
              "    </tr>\n",
              "    <tr>\n",
              "      <th>1</th>\n",
              "      <td>3.5571</td>\n",
              "      <td>-3.297522</td>\n",
              "      <td>0.079175</td>\n",
              "      <td>0</td>\n",
              "      <td>0</td>\n",
              "      <td>1.141888</td>\n",
              "      <td>3.393457</td>\n",
              "      <td>-0.016814</td>\n",
              "    </tr>\n",
              "    <tr>\n",
              "      <th>2</th>\n",
              "      <td>3.5572</td>\n",
              "      <td>-0.107898</td>\n",
              "      <td>0.074978</td>\n",
              "      <td>0</td>\n",
              "      <td>0</td>\n",
              "      <td>1.141764</td>\n",
              "      <td>3.439501</td>\n",
              "      <td>-0.019323</td>\n",
              "    </tr>\n",
              "    <tr>\n",
              "      <th>3</th>\n",
              "      <td>3.5573</td>\n",
              "      <td>0.568613</td>\n",
              "      <td>0.080653</td>\n",
              "      <td>0</td>\n",
              "      <td>0</td>\n",
              "      <td>1.141640</td>\n",
              "      <td>3.407291</td>\n",
              "      <td>-0.021644</td>\n",
              "    </tr>\n",
              "    <tr>\n",
              "      <th>4</th>\n",
              "      <td>3.5574</td>\n",
              "      <td>-2.818149</td>\n",
              "      <td>0.082536</td>\n",
              "      <td>0</td>\n",
              "      <td>0</td>\n",
              "      <td>1.141517</td>\n",
              "      <td>3.370394</td>\n",
              "      <td>-0.023318</td>\n",
              "    </tr>\n",
              "    <tr>\n",
              "      <th>...</th>\n",
              "      <td>...</td>\n",
              "      <td>...</td>\n",
              "      <td>...</td>\n",
              "      <td>...</td>\n",
              "      <td>...</td>\n",
              "      <td>...</td>\n",
              "      <td>...</td>\n",
              "      <td>...</td>\n",
              "    </tr>\n",
              "    <tr>\n",
              "      <th>4580</th>\n",
              "      <td>4.0150</td>\n",
              "      <td>1.731794</td>\n",
              "      <td>0.077008</td>\n",
              "      <td>0</td>\n",
              "      <td>8388608</td>\n",
              "      <td>0.837787</td>\n",
              "      <td>39.532246</td>\n",
              "      <td>1.371676</td>\n",
              "    </tr>\n",
              "    <tr>\n",
              "      <th>4581</th>\n",
              "      <td>4.0151</td>\n",
              "      <td>2.526648</td>\n",
              "      <td>0.115658</td>\n",
              "      <td>0</td>\n",
              "      <td>0</td>\n",
              "      <td>0.838547</td>\n",
              "      <td>14.752366</td>\n",
              "      <td>1.370484</td>\n",
              "    </tr>\n",
              "    <tr>\n",
              "      <th>4582</th>\n",
              "      <td>4.0152</td>\n",
              "      <td>0.572437</td>\n",
              "      <td>0.152431</td>\n",
              "      <td>0</td>\n",
              "      <td>0</td>\n",
              "      <td>0.839308</td>\n",
              "      <td>14.071901</td>\n",
              "      <td>1.370290</td>\n",
              "    </tr>\n",
              "    <tr>\n",
              "      <th>4583</th>\n",
              "      <td>4.0153</td>\n",
              "      <td>2.202406</td>\n",
              "      <td>0.000000</td>\n",
              "      <td>0</td>\n",
              "      <td>0</td>\n",
              "      <td>0.840037</td>\n",
              "      <td>12.751198</td>\n",
              "      <td>1.371306</td>\n",
              "    </tr>\n",
              "    <tr>\n",
              "      <th>4584</th>\n",
              "      <td>4.0154</td>\n",
              "      <td>3.831949</td>\n",
              "      <td>0.143868</td>\n",
              "      <td>0</td>\n",
              "      <td>134217728</td>\n",
              "      <td>0.840804</td>\n",
              "      <td>4.538127</td>\n",
              "      <td>1.372789</td>\n",
              "    </tr>\n",
              "  </tbody>\n",
              "</table>\n",
              "<p>4585 rows × 8 columns</p>\n",
              "</div>"
            ],
            "text/plain": [
              "      loglam      flux      ivar  and_mask    or_mask     wdisp        sky  \\\n",
              "0     3.5570 -1.937115  0.082223         0          0  1.142011   3.395389   \n",
              "1     3.5571 -3.297522  0.079175         0          0  1.141888   3.393457   \n",
              "2     3.5572 -0.107898  0.074978         0          0  1.141764   3.439501   \n",
              "3     3.5573  0.568613  0.080653         0          0  1.141640   3.407291   \n",
              "4     3.5574 -2.818149  0.082536         0          0  1.141517   3.370394   \n",
              "...      ...       ...       ...       ...        ...       ...        ...   \n",
              "4580  4.0150  1.731794  0.077008         0    8388608  0.837787  39.532246   \n",
              "4581  4.0151  2.526648  0.115658         0          0  0.838547  14.752366   \n",
              "4582  4.0152  0.572437  0.152431         0          0  0.839308  14.071901   \n",
              "4583  4.0153  2.202406  0.000000         0          0  0.840037  12.751198   \n",
              "4584  4.0154  3.831949  0.143868         0  134217728  0.840804   4.538127   \n",
              "\n",
              "         model  \n",
              "0    -0.014616  \n",
              "1    -0.016814  \n",
              "2    -0.019323  \n",
              "3    -0.021644  \n",
              "4    -0.023318  \n",
              "...        ...  \n",
              "4580  1.371676  \n",
              "4581  1.370484  \n",
              "4582  1.370290  \n",
              "4583  1.371306  \n",
              "4584  1.372789  \n",
              "\n",
              "[4585 rows x 8 columns]"
            ]
          },
          "metadata": {},
          "output_type": "display_data"
        }
      ],
      "source": [
        "from group9_package.subpkg_1.core_functions_module_modify import WavelengthAlignment\n",
        "\n",
        "display(spectra_full)\n",
        "\n",
        "# align to self - should not change\n",
        "min_loglam = spectra_full['loglam'].min()\n",
        "max_loglam = spectra_full['loglam'].max()\n",
        "\n",
        "# Use the min and max as the range for the alignment - nothing should change\n",
        "full_spectra_aligned = WavelengthAlignment.WavelengthAlign(spectra_full, (min_loglam, max_loglam))\n",
        "display(full_spectra_aligned)\n"
      ]
    },
    {
      "cell_type": "markdown",
      "metadata": {
        "id": "EmOFEUiDWptL"
      },
      "source": [
        "## Core Functionality: Visualization\n",
        "\n",
        "Lastly, for this package's core functionalities, we turn to our module for visualization. In this module, we've made it so the user is able to visualize spectral data either from a data frame or by extracting spectral data given a row of astronomical data from a query. The below simulates a given pandas dataframe that includes values for Wavelength and Flux. We understand that the respective values for each attribute may be more variable than in the example.\n",
        "\n",
        "Below are examples of inputting data or inputting the row, with their respective usage. Here, we imported pandas and the respective package from ours, but pandas is only used to simulate some data.\n",
        "\n",
        "The first result is a simulated dataframe"
      ]
    },
    {
      "cell_type": "code",
      "execution_count": 8,
      "metadata": {
        "colab": {
          "base_uri": "https://localhost:8080/",
          "height": 541
        },
        "id": "If2xGKquW99B",
        "outputId": "15e0460e-4804-481a-99af-db217da758ad"
      },
      "outputs": [
        {
          "name": "stderr",
          "output_type": "stream",
          "text": [
            "/Users/hnunez/Desktop/example_notebook/venv5/lib/python3.11/site-packages/astroquery/sdss/core.py:874: VisibleDeprecationWarning: Reading unicode strings without specifying the encoding argument is deprecated. Set the encoding, use None for the system default.\n",
            "  arr = np.atleast_1d(np.genfromtxt(io.BytesIO(response.content),\n"
          ]
        },
        {
          "name": "stdout",
          "output_type": "stream",
          "text": [
            "Query executed successfully and result stored in data attribute.\n"
          ]
        },
        {
          "data": {
            "image/png": "[encoded data removed]",
            "text/plain": [
              "<Figure size 640x480 with 1 Axes>"
            ]
          },
          "metadata": {},
          "output_type": "display_data"
        },
        {
          "name": "stdout",
          "output_type": "stream",
          "text": [
            "Successful Query!\n"
          ]
        },
        {
          "data": {
            "image/png": "[encoded data removed]",
            "text/plain": [
              "<Figure size 640x480 with 1 Axes>"
            ]
          },
          "metadata": {},
          "output_type": "display_data"
        }
      ],
      "source": [
        "from group9_package.subpkg_1.visualize_module import SpectralVisualizer\n",
        "import pandas as pd\n",
        "\n",
        "query_galaxies = \"select top 1 class, plate, mjd, fiberid, bestObjID from specObj where class = 'galaxy'\"\n",
        "\n",
        "# Create a SpectralAnalysisBase Class instance to execute the queries\n",
        "galaxies = SpectralAnalysisBase(query_galaxies)\n",
        "galaxies.execute_query()  # Execute the query\n",
        "spectra_extractor = SpectraExtract(galaxies.data[0]) # Extract the spectral data\n",
        "\n",
        "# Create fake data to visualize using spectral data\n",
        "data = pd.DataFrame({'Wavelength': [1, 2, 3], 'Flux': [0.5, 0.8, 1.0]})\n",
        "visualizer = SpectralVisualizer(row=None, data=data)\n",
        "visualizer.visualize()\n",
        "\n",
        "\n",
        "visualizer2 = SpectralVisualizer(row=galaxies.data[0], data=None)\n",
        "visualizer2.visualize()"
      ]
    },
    {
      "cell_type": "markdown",
      "metadata": {},
      "source": [
        "## Core Functionality: Data Augmentation Functionality\n",
        "\n",
        "This cell shows the usage of our data augmentation.\n",
        "\n",
        "Computes derivatives/fractional derivatives and appends them to each preprocessed spectra.\n",
        "\n",
        "Functions:\n",
        "__init__: Initializes spectral data attribute.\n",
        "\n",
        "compute_derivative: Computes the derivative for each spectrum in the input data and appends a column to the data with the values. Takes a column name argument\n",
        "\n",
        "compute_fractional_derivative: Computes the fractional derivative for each spectrum based on the specified order and appends the column to the data. Takes a column name argument and derivative order number\n",
        "\n",
        "augment_data: Calls both of the above functions and appends two columns to the data. Takes a column name argument and derivative order number\n"
      ]
    },
    {
      "cell_type": "code",
      "execution_count": 9,
      "metadata": {},
      "outputs": [
        {
          "name": "stdout",
          "output_type": "stream",
          "text": [
            "          flux  loglam      ivar  and_mask    or_mask     wdisp        sky  \\\n",
            "0    -1.937115  3.5570  0.082223         0          0  1.142011   3.395389   \n",
            "1    -3.299369  3.5571  0.079175         0          0  1.141888   3.393457   \n",
            "2    -0.106838  3.5572  0.074978         0          0  1.141764   3.439501   \n",
            "3     0.569755  3.5573  0.080653         0          0  1.141640   3.407291   \n",
            "4    -2.820402  3.5574  0.082536         0          0  1.141517   3.370394   \n",
            "...        ...     ...       ...       ...        ...       ...        ...   \n",
            "4580  1.731266  4.0150  0.077008         0    8388608  0.837787  39.532246   \n",
            "4581  2.527200  4.0151  0.115658         0          0  0.838547  14.752366   \n",
            "4582  0.568423  4.0152  0.152431         0          0  0.839308  14.071901   \n",
            "4583  2.200193  4.0153  0.000000         0          0  0.840037  12.751198   \n",
            "4584  3.831949  4.0154  0.143868         0  134217728  0.840804   4.538127   \n",
            "\n",
            "         model  flux Derivative  flux_fractional_derivative  \n",
            "0    -0.014616        -1.362254                    0.000000  \n",
            "1    -0.016814         0.915139                    0.000000  \n",
            "2    -0.019323         1.934562                    0.000000  \n",
            "3    -0.021644        -1.356782                 -198.257719  \n",
            "4    -0.023318        -0.257137                  119.317179  \n",
            "...        ...              ...                         ...  \n",
            "4580  1.371676         2.363059                  -86.374609  \n",
            "4581  1.370484        -0.581422                 -333.885261  \n",
            "4582  1.370290        -0.163504                  139.823270  \n",
            "4583  1.371306         1.631763                   41.220143  \n",
            "4584  1.372789         1.631757                  -88.484309  \n",
            "\n",
            "[4585 rows x 10 columns]\n",
            "          flux  loglam      ivar  and_mask    or_mask     wdisp        sky  \\\n",
            "0    -1.937115  3.5570  0.082223         0          0  1.142011   3.395389   \n",
            "1    -3.299369  3.5571  0.079175         0          0  1.141888   3.393457   \n",
            "2    -0.106838  3.5572  0.074978         0          0  1.141764   3.439501   \n",
            "3     0.569755  3.5573  0.080653         0          0  1.141640   3.407291   \n",
            "4    -2.820402  3.5574  0.082536         0          0  1.141517   3.370394   \n",
            "...        ...     ...       ...       ...        ...       ...        ...   \n",
            "4580  1.731266  4.0150  0.077008         0    8388608  0.837787  39.532246   \n",
            "4581  2.527200  4.0151  0.115658         0          0  0.838547  14.752366   \n",
            "4582  0.568423  4.0152  0.152431         0          0  0.839308  14.071901   \n",
            "4583  2.200193  4.0153  0.000000         0          0  0.840037  12.751198   \n",
            "4584  3.831949  4.0154  0.143868         0  134217728  0.840804   4.538127   \n",
            "\n",
            "         model  flux Derivative  flux_fractional_derivative  \\\n",
            "0    -0.014616        -1.362254                    0.000000   \n",
            "1    -0.016814         0.915139                    0.000000   \n",
            "2    -0.019323         1.934562                    0.000000   \n",
            "3    -0.021644        -1.356782                 -198.257719   \n",
            "4    -0.023318        -0.257137                  119.317179   \n",
            "...        ...              ...                         ...   \n",
            "4580  1.371676         2.363059                  -86.374609   \n",
            "4581  1.370484        -0.581422                 -333.885261   \n",
            "4582  1.370290        -0.163504                  139.823270   \n",
            "4583  1.371306         1.631763                   41.220143   \n",
            "4584  1.372789         1.631757                  -88.484309   \n",
            "\n",
            "      loglam Derivative  loglam_fractional_derivative  \n",
            "0                0.0001                      0.000000  \n",
            "1                0.0001                      0.000000  \n",
            "2                0.0001                      0.000000  \n",
            "3                0.0001                     19.202070  \n",
            "4                0.0001                      9.601574  \n",
            "...                 ...                           ...  \n",
            "4580             0.0001                      0.201338  \n",
            "4581             0.0001                      0.201325  \n",
            "4582             0.0001                      0.201310  \n",
            "4583             0.0001                      0.201299  \n",
            "4584             0.0001                      0.201286  \n",
            "\n",
            "[4585 rows x 12 columns]\n"
          ]
        }
      ],
      "source": [
        "from group9_package.subpkg_1.data_augmentation_module import DataAugmentation\n",
        "\n",
        "dataAugmentor = DataAugmentation(data=spectra_full)\n",
        "augmentedData = dataAugmentor.augment_both_derivatives(column_name='flux', derivative_order=0.5)\n",
        "print(augmentedData)\n",
        "\n",
        "dataAugmentor2 = DataAugmentation(data=spectra_full)\n",
        "dataAugmentor2.compute_derivative(column_name='loglam')\n",
        "dataAugmentor2.compute_fractional_derivative(column_name='loglam', derivative_order=0.2)\n",
        "print(dataAugmentor2.data)"
      ]
    },
    {
      "cell_type": "markdown",
      "metadata": {},
      "source": [
        "## Machine Learning Functionality\n",
        "\n",
        "Below is example usage of our machine learning module. We print out a confusion matrix and probability matrix."
      ]
    },
    {
      "cell_type": "code",
      "execution_count": 11,
      "metadata": {
        "colab": {
          "base_uri": "https://localhost:8080/",
          "height": 357
        },
        "id": "95nOddzz7Xje",
        "outputId": "dd4de258-53be-4ff1-a961-564627a750fb"
      },
      "outputs": [
        {
          "name": "stderr",
          "output_type": "stream",
          "text": [
            "/Users/hnunez/Desktop/example_notebook/venv5/lib/python3.11/site-packages/astroquery/sdss/core.py:874: VisibleDeprecationWarning: Reading unicode strings without specifying the encoding argument is deprecated. Set the encoding, use None for the system default.\n",
            "  arr = np.atleast_1d(np.genfromtxt(io.BytesIO(response.content),\n"
          ]
        },
        {
          "name": "stdout",
          "output_type": "stream",
          "text": [
            "Query executed successfully and result stored in data attribute.\n",
            "Query executed successfully and result stored in data attribute.\n",
            "Query executed successfully and result stored in data attribute.\n",
            "Successful Query!\n",
            "Request failed with status code: 500. Retrying...\n",
            "Successful Query!\n",
            "Successful Query!\n",
            "Confusion Matrix:\n",
            "[[919   0  11]\n",
            " [ 10 740 163]\n",
            " [  6   2 918]]\n",
            "Predictions: ['qso' 'qso' 'galaxy' ... 'star' 'qso' 'galaxy']\n",
            "Prediction Probabilities:\n",
            "[[2.56989335e-05 9.88990603e-01 1.09836981e-02]\n",
            " [1.74496687e-12 9.00476446e-01 9.95235545e-02]\n",
            " [9.95925045e-01 4.05726602e-03 1.76889478e-05]\n",
            " ...\n",
            " [1.70721439e-96 8.58764808e-04 9.99141235e-01]\n",
            " [6.50171545e-09 9.58304258e-01 4.16957355e-02]\n",
            " [9.92527767e-01 7.19814094e-03 2.74092285e-04]]\n"
          ]
        },
        {
          "name": "stderr",
          "output_type": "stream",
          "text": [
            "/Users/hnunez/Desktop/example_notebook/venv5/lib/python3.11/site-packages/sklearn/linear_model/_logistic.py:460: ConvergenceWarning: lbfgs failed to converge (status=1):\n",
            "STOP: TOTAL NO. of ITERATIONS REACHED LIMIT.\n",
            "\n",
            "Increase the number of iterations (max_iter) or scale the data as shown in:\n",
            "    https://scikit-learn.org/stable/modules/preprocessing.html\n",
            "Please also refer to the documentation for alternative solver options:\n",
            "    https://scikit-learn.org/stable/modules/linear_model.html#logistic-regression\n",
            "  n_iter_i = _check_optimize_result(\n"
          ]
        }
      ],
      "source": [
        "from group9_package.subpkg_2.machine_learning_module import CelestialObjectClassifier\n",
        "from group9_package.subpkg_1.core_functions_module_extract import SpectralAnalysisBase, SpectraExtract\n",
        "import pandas as pd\n",
        "from sklearn.model_selection import train_test_split\n",
        "\n",
        "query_galaxies = \"select top 1 class, plate, mjd, fiberid, bestObjID from specObj where class = 'galaxy'\"\n",
        "query_stars = \"select top 1 class, plate, mjd, fiberid, bestObjID from specObj where class = 'star'\"\n",
        "query_qsos = \"select top 1 class, plate, mjd, fiberid, bestObjID from specObj where class = 'qso'\"\n",
        "\n",
        "# Create a SpectralAnalysisBase Class instances to execute the queries\n",
        "galaxies = SpectralAnalysisBase(query_galaxies)\n",
        "galaxies.execute_query()  # Execute the query\n",
        "\n",
        "\n",
        "stars = SpectralAnalysisBase(query_stars)\n",
        "stars.execute_query()  # Execute the query\n",
        "\n",
        "qsos = SpectralAnalysisBase(query_qsos)\n",
        "qsos.execute_query() # Execute the query\n",
        "\n",
        "# Create empty lists to store spectral data and classifications\n",
        "spectral_data = []\n",
        "classifications = []\n",
        "\n",
        "# Function to extract spectral data and classifications\n",
        "def process_data(query_data, classification):\n",
        "    for row in query_data:\n",
        "        spectra_extractor = SpectraExtract(row)\n",
        "        spectra_data = spectra_extractor.extract_spectra()\n",
        "        spectral_data.append(spectra_data)\n",
        "        for _ in range(len(spectra_data)):\n",
        "            classifications.append([classification])\n",
        "\n",
        "# Process galaxies data\n",
        "process_data(galaxies.data, \"galaxy\")\n",
        "\n",
        "# Process stars data\n",
        "process_data(stars.data, \"star\")\n",
        "\n",
        "# Process qsos data\n",
        "process_data(qsos.data, \"qso\")\n",
        "\n",
        "# Create a DataFrame for spectral data\n",
        "spectral_df = pd.concat(spectral_data, ignore_index=True)\n",
        "\n",
        "# Create a DataFrame 'y' for classifications\n",
        "y = pd.DataFrame(classifications, columns=[\"Classification\"])\n",
        "\n",
        "# Horizontally stack spectral_df and classifications\n",
        "stacked_df = pd.concat([spectral_df, y], axis=1)\n",
        "\n",
        "train_data, test_data = train_test_split(stacked_df, test_size=0.2, random_state=42)\n",
        "\n",
        "X_train, y_train = train_data.drop(columns=[\"Classification\"]), train_data[\"Classification\"] \n",
        "\n",
        "X_test, y_test = test_data.drop(columns=[\"Classification\"]), test_data[\"Classification\"]\n",
        "\n",
        "# Initialize the CelestialObjectClassifier\n",
        "classifier = CelestialObjectClassifier()\n",
        "\n",
        "# Fit the classifier with training data\n",
        "classifier.fit(X_train, y_train)\n",
        "\n",
        "# Make predictions and print confusion matrix\n",
        "predictions = classifier.predict(X_test, y_test)\n",
        "\n",
        "# Calculate prediction probabilities\n",
        "prediction_probabilities = classifier.predict_proba(X_test)\n",
        "\n",
        "# Print some results\n",
        "print(f\"Predictions: {predictions}\")\n",
        "print(f\"Prediction Probabilities:\\n{prediction_probabilities}\")\n"
      ]
    },
    {
      "cell_type": "markdown",
      "metadata": {
        "id": "49Xbs27oEVWe"
      },
      "source": [
        "## Cross Matching Functionality\n",
        "\n",
        "As our final functionality, we have a simple cross match as guided by victor zhu. the user inputs a gaia source id, and a cross match is returned if the threshold is met. The result is a dataframe containing the sdss match id and the distance of the neighbor."
      ]
    },
    {
      "cell_type": "code",
      "execution_count": 12,
      "metadata": {
        "id": "sAOfO726CSBv"
      },
      "outputs": [
        {
          "data": {
            "text/html": [
              "<div>\n",
              "<style scoped>\n",
              "    .dataframe tbody tr th:only-of-type {\n",
              "        vertical-align: middle;\n",
              "    }\n",
              "\n",
              "    .dataframe tbody tr th {\n",
              "        vertical-align: top;\n",
              "    }\n",
              "\n",
              "    .dataframe thead th {\n",
              "        text-align: right;\n",
              "    }\n",
              "</style>\n",
              "<table border=\"1\" class=\"dataframe\">\n",
              "  <thead>\n",
              "    <tr style=\"text-align: right;\">\n",
              "      <th></th>\n",
              "      <th>original_ext_source_id</th>\n",
              "      <th>angular_distance</th>\n",
              "    </tr>\n",
              "  </thead>\n",
              "  <tbody>\n",
              "    <tr>\n",
              "      <th>0</th>\n",
              "      <td>1237671992426824447</td>\n",
              "      <td>0.053355</td>\n",
              "    </tr>\n",
              "  </tbody>\n",
              "</table>\n",
              "</div>"
            ],
            "text/plain": [
              "   original_ext_source_id  angular_distance\n",
              "0     1237671992426824447          0.053355"
            ]
          },
          "metadata": {},
          "output_type": "display_data"
        }
      ],
      "source": [
        "from group9_package.subpkg_2.cross_matching_module import CrossMatchingModule\n",
        "gaia_source_id = '6279435494640163584'\n",
        "threshold = 1\n",
        "crossmatch = CrossMatchingModule()\n",
        "result = crossmatch.cross_match(threshold, gaia_source_id)\n",
        "display(result)"
      ]
    }
  ],
  "metadata": {
    "colab": {
      "provenance": []
    },
    "kernelspec": {
      "display_name": "Python 3.11.0 ('venv5': venv)",
      "language": "python",
      "name": "python3"
    },
    "language_info": {
      "codemirror_mode": {
        "name": "ipython",
        "version": 3
      },
      "file_extension": ".py",
      "mimetype": "text/x-python",
      "name": "python",
      "nbconvert_exporter": "python",
      "pygments_lexer": "ipython3",
      "version": "3.11.0"
    },
    "vscode": {
      "interpreter": {
        "hash": "b35946e745859ed77bc0480c675b6f0cb2051e3e199ca852faa8f3c29ab9ff41"
      }
    }
  },
  "nbformat": 4,
  "nbformat_minor": 0
}
